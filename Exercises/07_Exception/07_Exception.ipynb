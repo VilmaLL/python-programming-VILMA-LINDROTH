{
 "cells": [
  {
   "cell_type": "markdown",
   "id": "dcce5e5e",
   "metadata": {},
   "source": [
    "1. Find errors (*)\n",
    "Find the errors in this code to compute the distance between the point (x, y) and the origin in a cartesian coordinate system.\n",
    "\n",
    "impor numpy as np\n",
    "\n",
    "def distance(x,y)\n",
    "    reurn np.sqrt(x+y)\n",
    "\n",
    "print(distance([0.5, 0.5]))"
   ]
  },
  {
   "cell_type": "markdown",
   "id": "7ce2cca5",
   "metadata": {},
   "source": [
    "line 1 \"impor\" should be \"import\": syntax error\n",
    "\n",
    "line 4 \"reurn\" should be \"return\": syntax error\n",
    "\n",
    "line 4 np.sqrt(x+y) should be (x**2 + y**2): logical error"
   ]
  },
  {
   "cell_type": "markdown",
   "id": "de04eefd",
   "metadata": {},
   "source": [
    "2. Find errors (*)\n",
    "Find the errors in this code. Just change the function, don't touch the test program.\n",
    "\n",
    "def is_fourdigit(number):\n",
    "    if number//1000 < 10\n",
    "        return true\n",
    "    else \n",
    "        return false\n",
    "\n",
    "# test program\n",
    "test_numbers = [231, 3124, -4124, -1000,-999, 1001, 10000, -10000, 999]\n",
    "\n",
    "for number in test_numbers:\n",
    "    if is_fourdigit(number):\n",
    "        print(f\"{number} is four-digit\")\n",
    "    else:\n",
    "        print(f\"{number} is not four-digit\")"
   ]
  },
  {
   "cell_type": "markdown",
   "id": "110bb402",
   "metadata": {},
   "source": [
    "line 2 sytax error: number//1000 should be number/1000\n",
    "\n",
    "line 2 logical error: 1 <= number/1000 < 10 # tal mindre än 1000 delat på 1000 är mindre än 10, men är inte större än 1.\n",
    "\n",
    "line 2 syntax error: end the if condition with \":\"\n",
    "\n",
    "line 3 syntax error: \"true\" should be \"True\"\n",
    "\n",
    "line 4 syntax error: end the else with \":\"\n",
    "\n",
    "line 5 syntax error: \"false\" should be \"False\"\n",
    "\n",
    "test program exception error\n",
    "    for number in test_numbers:\n",
    "        is_fourdigit(number)\n",
    "        if True:\n",
    "            print(\"...\")\n",
    "        else:\n",
    "            print(\"...\")\n"
   ]
  },
  {
   "cell_type": "markdown",
   "id": "efd1dae1",
   "metadata": {},
   "source": [
    "\n",
    "3. Tram (*)\n",
    "pr0fez is a clumpsy computer user that doesn't take trams too often. Write a program to prompt the user for:\n",
    "\n",
    "number of times he/she wants to take tram in one month\n",
    "cost for one ticket\n",
    "cost for monthly card\n",
    "The program should calculate if it's worth for him to buy monthly card or not. Make the program user friendly with clear error messages and ask again in case of input errors.\n",
    "\n",
    "Hint\n",
    "Raise user friendly exceptions to guide the user to give right input format."
   ]
  },
  {
   "cell_type": "code",
   "execution_count": null,
   "id": "1572bf5f",
   "metadata": {},
   "outputs": [],
   "source": [
    "# Number of times you take the tram in one month\n",
    "\n",
    "while True:\n",
    "    try:\n",
    "        TravelsPerMonth = int(input(\"How many times a month do you take the tram?: \"))\n",
    "        if not 0 <= TravelsPerMonth <= 100:\n",
    "            raise ValueError(\"Number of times you take the tram must be between 0 and 100\")\n",
    "        break\n",
    "    except ValueError as err:\n",
    "        print(err)\n",
    "\n",
    "# cost for one ticket\n",
    "\n",
    "while True:\n",
    "    try:\n",
    "        CostPerTicket = float(input(\"How much does one ticket cost?: \"))\n",
    "        if not 0 <= CostPerTicket <= 100:\n",
    "            raise ValueError(\"One ticket must cost between 0 and 100kr\")\n",
    "        break\n",
    "    except ValueError as err:\n",
    "        print(err)\n",
    "\n",
    "# cost for a one month card\n",
    "\n",
    "while True:\n",
    "    try:\n",
    "        CostMonthlyCard = float(input(\"How much does one monthly card cost?: \"))\n",
    "        if not 0 <= CostMonthlyCard <= 1000:\n",
    "            raise ValueError(\"One monthly card must cost between 0 and 1000 kr\")\n",
    "        break\n",
    "    except ValueError as err:\n",
    "        print(err)\n",
    "\n",
    "# calculating if it's worth buying a monthly card\n",
    "CostWithTicket = CostPerTicket * TravelsPerMonth\n",
    "CostWithCard = CostMonthlyCard\n",
    "\n",
    "if CostWithCard < CostWithTicket:\n",
    "    print(\"It's worth it to buy a monthly card.\")\n",
    "elif CostWithCard == CostWithTicket:\n",
    "    print(\"It's equally expencive to buy a card as to buy single tickets.\")\n",
    "else:\n",
    "    print(\"It's not worth is to buy a monthly card\")"
   ]
  }
 ],
 "metadata": {
  "language_info": {
   "name": "python"
  }
 },
 "nbformat": 4,
 "nbformat_minor": 5
}
