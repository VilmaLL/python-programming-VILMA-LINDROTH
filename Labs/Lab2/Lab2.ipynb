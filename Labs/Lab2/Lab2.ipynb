{
 "cells": [
  {
   "cell_type": "markdown",
   "id": "fa55af3f",
   "metadata": {},
   "source": [
    "Lab2 Grunduppgift"
   ]
  },
  {
   "cell_type": "markdown",
   "id": "dc91c846",
   "metadata": {},
   "source": [
    "Alla imports"
   ]
  },
  {
   "cell_type": "code",
   "execution_count": 28,
   "id": "5fa6f648",
   "metadata": {},
   "outputs": [
    {
     "name": "stdout",
     "output_type": "stream",
     "text": [
      "Requirement already satisfied: matplotlib in c:\\users\\vilma\\python-programming-vilma-lindroth\\python-programming-vilma-lindroth\\.venv\\lib\\site-packages (3.10.6)\n",
      "Requirement already satisfied: contourpy>=1.0.1 in c:\\users\\vilma\\python-programming-vilma-lindroth\\python-programming-vilma-lindroth\\.venv\\lib\\site-packages (from matplotlib) (1.3.3)\n",
      "Requirement already satisfied: cycler>=0.10 in c:\\users\\vilma\\python-programming-vilma-lindroth\\python-programming-vilma-lindroth\\.venv\\lib\\site-packages (from matplotlib) (0.12.1)\n",
      "Requirement already satisfied: fonttools>=4.22.0 in c:\\users\\vilma\\python-programming-vilma-lindroth\\python-programming-vilma-lindroth\\.venv\\lib\\site-packages (from matplotlib) (4.60.0)\n",
      "Requirement already satisfied: kiwisolver>=1.3.1 in c:\\users\\vilma\\python-programming-vilma-lindroth\\python-programming-vilma-lindroth\\.venv\\lib\\site-packages (from matplotlib) (1.4.9)\n",
      "Requirement already satisfied: numpy>=1.23 in c:\\users\\vilma\\python-programming-vilma-lindroth\\python-programming-vilma-lindroth\\.venv\\lib\\site-packages (from matplotlib) (2.3.3)\n",
      "Requirement already satisfied: packaging>=20.0 in c:\\users\\vilma\\python-programming-vilma-lindroth\\python-programming-vilma-lindroth\\.venv\\lib\\site-packages (from matplotlib) (25.0)\n",
      "Requirement already satisfied: pillow>=8 in c:\\users\\vilma\\python-programming-vilma-lindroth\\python-programming-vilma-lindroth\\.venv\\lib\\site-packages (from matplotlib) (11.3.0)\n",
      "Requirement already satisfied: pyparsing>=2.3.1 in c:\\users\\vilma\\python-programming-vilma-lindroth\\python-programming-vilma-lindroth\\.venv\\lib\\site-packages (from matplotlib) (3.2.5)\n",
      "Requirement already satisfied: python-dateutil>=2.7 in c:\\users\\vilma\\python-programming-vilma-lindroth\\python-programming-vilma-lindroth\\.venv\\lib\\site-packages (from matplotlib) (2.9.0.post0)\n",
      "Requirement already satisfied: six>=1.5 in c:\\users\\vilma\\python-programming-vilma-lindroth\\python-programming-vilma-lindroth\\.venv\\lib\\site-packages (from python-dateutil>=2.7->matplotlib) (1.17.0)\n",
      "Note: you may need to restart the kernel to use updated packages.\n"
     ]
    }
   ],
   "source": [
    "%pip install matplotlib\n",
    "\n",
    "import matplotlib.pyplot as plt\n",
    "import numpy as np\n",
    "import random\n",
    "from collections import Counter"
   ]
  },
  {
   "cell_type": "markdown",
   "id": "68d20504",
   "metadata": {},
   "source": [
    "Funktion för att importera data från fil\n"
   ]
  },
  {
   "cell_type": "code",
   "execution_count": 29,
   "id": "04eab589",
   "metadata": {},
   "outputs": [],
   "source": [
    "def ImportData(path):\n",
    "    Data = []\n",
    "    with open(path, \"r\") as file:\n",
    "        for line in file:\n",
    "            DataParts = line.strip().split(\",\")\n",
    "            if len(DataParts) == 3:\n",
    "                WidthData = float(DataParts[0])\n",
    "                HeightData = float(DataParts[1])\n",
    "                Label = int(DataParts[2])\n",
    "                Data.append((WidthData, HeightData, Label))\n",
    "            if len(DataParts) == 2:\n",
    "                WidthData = float(DataParts[0])\n",
    "                HeightData = float(DataParts[1])\n",
    "                Data.append((WidthData, HeightData))\n",
    "    return Data"
   ]
  },
  {
   "cell_type": "markdown",
   "id": "52ce8069",
   "metadata": {},
   "source": [
    "Funktion för att separera datapunkter från fil som Pichu (0) eller Pikachu (1)"
   ]
  },
  {
   "cell_type": "code",
   "execution_count": 30,
   "id": "815d00fb",
   "metadata": {},
   "outputs": [],
   "source": [
    "def PichuOrPikachuLabel(datapoints):\n",
    "    WidthsPichu = []\n",
    "    HeightsPichu = []\n",
    "    WidthsPikachu = []\n",
    "    HeightsPikachu = []\n",
    "\n",
    "    for width, height, label in datapoints:\n",
    "        if label == 0:\n",
    "            WidthsPichu.append(width)\n",
    "            HeightsPichu.append(height)\n",
    "        elif label == 1:\n",
    "            WidthsPikachu.append(width)\n",
    "            HeightsPikachu.append(height)\n",
    "    \n",
    "    return WidthsPichu, HeightsPichu, WidthsPikachu, HeightsPikachu"
   ]
  },
  {
   "cell_type": "markdown",
   "id": "aafab0d8",
   "metadata": {},
   "source": [
    "Euklidisk distans funktion"
   ]
  },
  {
   "cell_type": "code",
   "execution_count": 31,
   "id": "391d3b15",
   "metadata": {},
   "outputs": [],
   "source": [
    "def EuclideanDistance (p1, p2):\n",
    "    return np.sqrt((p1[0]-p2[0])**2 + (p1[1] - p2[1])**2)"
   ]
  },
  {
   "cell_type": "markdown",
   "id": "0d3a36e7",
   "metadata": {},
   "source": [
    "Nearest Neighbor funktion\n",
    "för 1 närmaste granne"
   ]
  },
  {
   "cell_type": "code",
   "execution_count": 32,
   "id": "c8a2edb3",
   "metadata": {},
   "outputs": [],
   "source": [
    "def NearestNeighbor(testpoint, datapoints):\n",
    "    MinDistance = float(\"inf\")\n",
    "    PredictedLabel = None\n",
    "\n",
    "    for data in datapoints:\n",
    "        DataPoint = (data[0], data[1])\n",
    "        label = data[2]\n",
    "        distance = EuclideanDistance(testpoint, DataPoint)\n",
    "        if distance < MinDistance:\n",
    "            MinDistance = distance\n",
    "            PredictedLabel = label\n",
    "\n",
    "    return PredictedLabel"
   ]
  },
  {
   "cell_type": "markdown",
   "id": "d91ac2c9",
   "metadata": {},
   "source": [
    "Nearest Neighbor funktion\n",
    "för 10 närmaste grannar\n",
    "NNK funktion\n",
    "för en testpunkt"
   ]
  },
  {
   "cell_type": "code",
   "execution_count": 33,
   "id": "d0ee73eb",
   "metadata": {},
   "outputs": [],
   "source": [
    "def NearestNeighborKOnePoint(testpunkt, datapoints, k=10):\n",
    "    distances = []\n",
    "\n",
    "    for data in datapoints:\n",
    "        DataPoint = (data[0], data[1])\n",
    "        label = data[2]\n",
    "        distance = EuclideanDistance(testpunkt, DataPoint)\n",
    "        distances.append((distance, label))\n",
    "\n",
    "    distances.sort(key = lambda x: x[0])\n",
    "\n",
    "    k_neighbors = distances[:k]\n",
    "\n",
    "    k_labels = [label for _, label in k_neighbors]\n",
    "\n",
    "    most_common = Counter(k_labels).most_common(1) \n",
    "\n",
    "    return most_common[0][0]"
   ]
  },
  {
   "cell_type": "markdown",
   "id": "b0aa67e1",
   "metadata": {},
   "source": [
    "Nearest Neighbor funktion\n",
    "för 10 närmaste grannar\n",
    "NNK funktion\n",
    "för flera testpunkter"
   ]
  },
  {
   "cell_type": "code",
   "execution_count": 34,
   "id": "451eda88",
   "metadata": {},
   "outputs": [],
   "source": [
    "def NearestNeighborKListOfPoints(TestData, ReferenceData, k=10):\n",
    "    TrueLabelForTest = []\n",
    "    PredictedLabelForTest = []\n",
    "\n",
    "    for test in TestData:\n",
    "        distances = []\n",
    "        TestPoint = (test[0], test[1])\n",
    "        TestLabel = test[2]\n",
    "        TrueLabelForTest.append(TestLabel)\n",
    "\n",
    "        for data in ReferenceData:\n",
    "            DataPoint = (data[0], data[1])\n",
    "            label = data[2]\n",
    "            distance = EuclideanDistance(TestPoint, DataPoint)\n",
    "            distances.append((distance, label))\n",
    "\n",
    "        distances.sort(key = lambda x: x[0])\n",
    "\n",
    "        k_neighbors = distances[:k]\n",
    "\n",
    "        k_labels = [label for _, label in k_neighbors]\n",
    "\n",
    "        most_common = Counter(k_labels).most_common(1) \n",
    "\n",
    "        predicted_label = most_common[0][0]\n",
    "\n",
    "        PredictedLabelForTest.append(predicted_label)\n",
    "        \n",
    "    return TrueLabelForTest, PredictedLabelForTest\n"
   ]
  },
  {
   "cell_type": "markdown",
   "id": "a2811b55",
   "metadata": {},
   "source": [
    "Funktion för att klassificera testpunkter från predictedlabel"
   ]
  },
  {
   "cell_type": "code",
   "execution_count": 35,
   "id": "1785a609",
   "metadata": {},
   "outputs": [],
   "source": [
    "\n",
    "def Classification(testpoints, datapoints):\n",
    "    ClassifiedTestpoints = []\n",
    "    for testpoint in testpoints:\n",
    "        PredictedLabel = NearestNeighbor(testpoint, datapoints)\n",
    "        ClassifiedTestpoints.append((testpoint[0], testpoint[1], PredictedLabel))\n",
    "    return ClassifiedTestpoints"
   ]
  },
  {
   "cell_type": "markdown",
   "id": "1d2c5dc5",
   "metadata": {},
   "source": [
    "Funktion för att plotta graf över datapunkter och testpunkter"
   ]
  },
  {
   "cell_type": "code",
   "execution_count": 36,
   "id": "9f2694ff",
   "metadata": {},
   "outputs": [],
   "source": [
    "def DatapointsGraph (WidthsPichu, HeightsPichu, WidthsPikachu, HeightsPikachu, ClassifiedTestpoints):\n",
    "    plt.figure(figsize=(10, 6))\n",
    "    plt.scatter(WidthsPichu, HeightsPichu, color = \"yellow\", label = \"Pichu\")\n",
    "    plt.scatter(WidthsPikachu, HeightsPikachu, color = \"orange\", label = \"Pikachu\")\n",
    "\n",
    "    LabelDuplet = set()\n",
    "\n",
    "    for x, y, label in ClassifiedTestpoints:\n",
    "        color = \"green\" if label == 0 else \"red\"\n",
    "        LabelText = \"Classified as Pichu\" if label == 0 else \"Classified as Pikachu\"\n",
    "        \n",
    "        if LabelText not in LabelDuplet: # Källhantering: hantering av dubblering av labels förklarat med annat exempel av chatGPT \n",
    "            plt.scatter(x, y, color = color, label = LabelText)\n",
    "            LabelDuplet.add(LabelText)\n",
    "        else:\n",
    "            plt.scatter(x, y, color = color)\n",
    "\n",
    "\n",
    "    plt.title('Pichu or Pikachu')\n",
    "    plt.xlabel('Width')\n",
    "    plt.ylabel('Height')\n",
    "    plt.xlim(15, 30)\n",
    "    plt.ylim(25, 45)\n",
    "    plt.grid(True)\n",
    "    plt.legend()\n",
    "    plt.show()"
   ]
  },
  {
   "cell_type": "markdown",
   "id": "6268e5c8",
   "metadata": {},
   "source": [
    "Funktion för testpunkt från input med felhantering"
   ]
  },
  {
   "cell_type": "code",
   "execution_count": 37,
   "id": "cc2c26c8",
   "metadata": {},
   "outputs": [],
   "source": [
    "def InputATestpoint():  \n",
    "    while True:\n",
    "        try:\n",
    "            print(\"Input width and height: \")\n",
    "            testpoint_x, testpoint_y = float(input()), float(input())\n",
    "            if testpoint_x < 0:\n",
    "                raise ValueError(\"Width must be a positive number\")\n",
    "            if testpoint_y < 0:\n",
    "                raise ValueError(\"Height must be a positive number\")\n",
    "            break\n",
    "        except ValueError as err:\n",
    "            print(\"Invalid input:\", err)\n",
    "\n",
    "    InputTestPoint = (testpoint_x, testpoint_y)\n",
    "    return InputTestPoint"
   ]
  },
  {
   "cell_type": "markdown",
   "id": "5b7bab36",
   "metadata": {},
   "source": [
    "Funktion för att dela upp och blanda datapunkter utifrån värde på d[2]"
   ]
  },
  {
   "cell_type": "code",
   "execution_count": 38,
   "id": "ecabe77b",
   "metadata": {},
   "outputs": [],
   "source": [
    "def SplitAndShuffleDataFile(datapoints):\n",
    "    Datapoints_c0 = [d for d in datapoints if d[2] == 0]\n",
    "    Datapoints_c1 = [d for d in datapoints if d[2] == 1]\n",
    "\n",
    "    random.shuffle(Datapoints_c0) \n",
    "    random.shuffle(Datapoints_c1)\n",
    "\n",
    "    ReferenceData = Datapoints_c0[:50] + Datapoints_c1[:50]\n",
    "    TestData = Datapoints_c0[50:] + Datapoints_c1[50:]\n",
    "\n",
    "    random.shuffle(TestData)\n",
    "\n",
    "    return TestData, ReferenceData"
   ]
  },
  {
   "cell_type": "markdown",
   "id": "23f90c56",
   "metadata": {},
   "source": [
    "Funktion för att beräkna Accuracy"
   ]
  },
  {
   "cell_type": "code",
   "execution_count": 39,
   "id": "6f47c74c",
   "metadata": {},
   "outputs": [],
   "source": [
    "def AccuracyOfNNK(TrueLabelForTest, PredictedLabelForTest):\n",
    "    TruePrediction = 0\n",
    "    FalsePrediction = 0\n",
    "\n",
    "    for i in range (len(TrueLabelForTest)):\n",
    "        if TrueLabelForTest[i] == PredictedLabelForTest[i]:\n",
    "            TruePrediction += 1\n",
    "        else:\n",
    "            FalsePrediction += 1\n",
    "\n",
    "    Accuracy = (TruePrediction)/(TruePrediction + FalsePrediction)\n",
    "    return Accuracy\n",
    "    "
   ]
  },
  {
   "cell_type": "markdown",
   "id": "decac10c",
   "metadata": {},
   "source": [
    "Funktion för att beräkna Accuray Average"
   ]
  },
  {
   "cell_type": "code",
   "execution_count": 40,
   "id": "7931043f",
   "metadata": {},
   "outputs": [],
   "source": [
    "def AccuracyMean(AccuracyList):\n",
    "    AccuracySum = 0\n",
    "    for i in AccuracyList:\n",
    "        AccuracySum += i\n",
    "\n",
    "    AccuracyAverage = AccuracySum/ len(AccuracyList)\n",
    "\n",
    "    return AccuracyAverage"
   ]
  },
  {
   "cell_type": "markdown",
   "id": "60bd8bb9",
   "metadata": {},
   "source": [
    "Funktion för att plotta Accuracy"
   ]
  },
  {
   "cell_type": "code",
   "execution_count": 41,
   "id": "e2a9da7c",
   "metadata": {},
   "outputs": [],
   "source": [
    "def AccuracyGraph(AccuracyList, AccuracyAverage):\n",
    "    x = list(range(10))\n",
    "    y = AccuracyList\n",
    "\n",
    "    plt.figure(figsize = (10, 6))\n",
    "    plt.plot(x, y)\n",
    "    plt.axhline(y = AccuracyAverage, color = \"red\", label = f\"Average Accuracy: {AccuracyAverage:.3f}\")\n",
    "    plt.title(\"Accuracy of Nearest Neighbor prediction\")\n",
    "    plt.xlabel(\"Simulation nr\")\n",
    "    plt.ylabel(\"Accuracy\")\n",
    "    plt.xlim(0, 9)\n",
    "    plt.ylim(0.85 , 1.0)\n",
    "    plt.grid(True)\n",
    "    plt.legend()\n",
    "    plt.show()"
   ]
  },
  {
   "cell_type": "markdown",
   "id": "d004d3ef",
   "metadata": {},
   "source": [
    "Grunduppgift\n"
   ]
  },
  {
   "cell_type": "code",
   "execution_count": 42,
   "id": "efc41ba7",
   "metadata": {},
   "outputs": [
    {
     "data": {
      "image/png": "[encoded data removed]",
      "text/plain": [
       "<Figure size 1000x600 with 1 Axes>"
      ]
     },
     "metadata": {},
     "output_type": "display_data"
    }
   ],
   "source": [
    "pathData = r\"C:\\Users\\vilma\\python-programming-VILMA-LINDROTH\\Labs\\Lab2\\datapoints.txt\"\n",
    "pathTestData = r\"C:\\Users\\vilma\\python-programming-VILMA-LINDROTH\\Labs\\Lab2\\testpoints.txt\"\n",
    "\n",
    "datapoints = ImportData(pathData)\n",
    "testpoints = ImportData(pathTestData)\n",
    "\n",
    "WidthsPichu, HeightsPichu, WidthsPikachu, HeightsPikachu = PichuOrPikachuLabel(datapoints)\n",
    "\n",
    "ClassifiedTestpoints = Classification(testpoints, datapoints)\n",
    "\n",
    "DatapointsGraph (WidthsPichu, HeightsPichu, WidthsPikachu, HeightsPikachu, ClassifiedTestpoints)\n",
    "\n"
   ]
  },
  {
   "cell_type": "markdown",
   "id": "b1eb266b",
   "metadata": {},
   "source": [
    "Uppgift 1"
   ]
  },
  {
   "cell_type": "code",
   "execution_count": 43,
   "id": "1cdb60f6",
   "metadata": {},
   "outputs": [
    {
     "name": "stdout",
     "output_type": "stream",
     "text": [
      "Input width and height: \n",
      "The input test point is predicted to be: Pikachu\n"
     ]
    }
   ],
   "source": [
    "InputTestPoint = InputATestpoint()\n",
    "\n",
    "PredictedLabel = NearestNeighbor(InputTestPoint, datapoints)\n",
    "if PredictedLabel == 0:\n",
    "    PrintLabel = \"Pichu\"\n",
    "else:\n",
    "    PrintLabel = \"Pikachu\"\n",
    "print(f\"The input test point is predicted to be: {PrintLabel}\")"
   ]
  },
  {
   "cell_type": "markdown",
   "id": "e7f121a3",
   "metadata": {},
   "source": [
    "Uppgift 2"
   ]
  },
  {
   "cell_type": "code",
   "execution_count": 44,
   "id": "03797369",
   "metadata": {},
   "outputs": [
    {
     "name": "stdout",
     "output_type": "stream",
     "text": [
      "The input test point is predicted to be: Pikachu\n"
     ]
    }
   ],
   "source": [
    "PredictedLabel = NearestNeighborKOnePoint(InputTestPoint, datapoints , k=10)\n",
    "if PredictedLabel == 0:\n",
    "    PrintLabel = \"Pichu\"\n",
    "else:\n",
    "    PrintLabel = \"Pikachu\"\n",
    "print(f\"The input test point is predicted to be: {PrintLabel}\")"
   ]
  },
  {
   "cell_type": "markdown",
   "id": "cc66e1ed",
   "metadata": {},
   "source": [
    "Uppgift 3 och 4"
   ]
  },
  {
   "cell_type": "code",
   "execution_count": 45,
   "id": "87a3498b",
   "metadata": {},
   "outputs": [
    {
     "name": "stdout",
     "output_type": "stream",
     "text": [
      "Accuracy: 0.94\n"
     ]
    }
   ],
   "source": [
    "TestData, ReferenceData = SplitAndShuffleDataFile(datapoints)\n",
    "TrueLabelForTest, PredictedLabelForTest = NearestNeighborKListOfPoints(TestData, ReferenceData, k = 10)\n",
    "Accuracy = AccuracyOfNNK(TrueLabelForTest, PredictedLabelForTest)\n",
    "print(f\"Accuracy: {Accuracy}\")\n"
   ]
  },
  {
   "cell_type": "markdown",
   "id": "07b5d834",
   "metadata": {},
   "source": [
    "Uppgift 5"
   ]
  },
  {
   "cell_type": "code",
   "execution_count": 48,
   "id": "001ce6e2",
   "metadata": {},
   "outputs": [
    {
     "data": {
      "image/png": "[encoded data removed]",
      "text/plain": [
       "<Figure size 1000x600 with 1 Axes>"
      ]
     },
     "metadata": {},
     "output_type": "display_data"
    }
   ],
   "source": [
    "AccuracyList = []\n",
    "for simulations in range(10):\n",
    "    TestData, ReferenceData = SplitAndShuffleDataFile(datapoints)\n",
    "    TrueLabelForTest, PredictedLabelForTest = NearestNeighborKListOfPoints(TestData, ReferenceData, k = 10)\n",
    "    Accuracy = AccuracyOfNNK(TrueLabelForTest, PredictedLabelForTest)\n",
    "    AccuracyList.append(Accuracy)\n",
    "\n",
    "AccuracyAverage = AccuracyMean(AccuracyList)\n",
    "\n",
    "AccuracyGraph(AccuracyList, AccuracyAverage)"
   ]
  }
 ],
 "metadata": {
  "kernelspec": {
   "display_name": ".venv",
   "language": "python",
   "name": "python3"
  },
  "language_info": {
   "codemirror_mode": {
    "name": "ipython",
    "version": 3
   },
   "file_extension": ".py",
   "mimetype": "text/x-python",
   "name": "python",
   "nbconvert_exporter": "python",
   "pygments_lexer": "ipython3",
   "version": "3.13.7"
  }
 },
 "nbformat": 4,
 "nbformat_minor": 5
}
